{
 "cells": [
  {
   "cell_type": "markdown",
   "metadata": {},
   "source": [
    "# Paso 1. Se importan las librerias"
   ]
  },
  {
   "cell_type": "code",
   "execution_count": 23,
   "metadata": {},
   "outputs": [],
   "source": [
    "import pandas as pd\n",
    "import tensorflow as tf\n",
    "import tensorflow.keras as kr\n",
    "import numpy as np\n",
    "\n",
    "from summarytools import dfSummary\n",
    "from sklearn.model_selection import train_test_split\n",
    "from sklearn.preprocessing import StandardScaler\n",
    "from sklearn.preprocessing import LabelEncoder\n",
    "from sklearn.ensemble import RandomForestClassifier\n",
    "from sklearn.metrics import classification_report, accuracy_score\n",
    "from keras.models import Sequential\n",
    "from keras.layers import Dense\n",
    "from tensorflow.keras.utils import to_categorical\n"
   ]
  },
  {
   "cell_type": "markdown",
   "metadata": {},
   "source": [
    "# Paso 2. Cargar los datos"
   ]
  },
  {
   "cell_type": "code",
   "execution_count": 5,
   "metadata": {},
   "outputs": [],
   "source": [
    "import pandas as pd\n",
    "\n",
    "# Carga el archivo Excel\n",
    "df = pd.read_excel('BDD-Reclamos-Consolidado-Total Reclamos.xlsx')"
   ]
  },
  {
   "cell_type": "code",
   "execution_count": 6,
   "metadata": {},
   "outputs": [
    {
     "data": {
      "text/html": [
       "<div>\n",
       "<style scoped>\n",
       "    .dataframe tbody tr th:only-of-type {\n",
       "        vertical-align: middle;\n",
       "    }\n",
       "\n",
       "    .dataframe tbody tr th {\n",
       "        vertical-align: top;\n",
       "    }\n",
       "\n",
       "    .dataframe thead th {\n",
       "        text-align: right;\n",
       "    }\n",
       "</style>\n",
       "<table border=\"1\" class=\"dataframe\">\n",
       "  <thead>\n",
       "    <tr style=\"text-align: right;\">\n",
       "      <th></th>\n",
       "      <th>Reclamos</th>\n",
       "      <th>ipcprin</th>\n",
       "      <th>Edad</th>\n",
       "      <th>DepartamentoDescripcion</th>\n",
       "      <th>Sexo</th>\n",
       "      <th>EstadoCivil</th>\n",
       "      <th>Rentabilidadantesreclamo</th>\n",
       "      <th>Segmentoantesreclamo</th>\n",
       "      <th>Area</th>\n",
       "      <th>Abandono</th>\n",
       "    </tr>\n",
       "  </thead>\n",
       "  <tbody>\n",
       "    <tr>\n",
       "      <th>0</th>\n",
       "      <td>2</td>\n",
       "      <td>3</td>\n",
       "      <td>42</td>\n",
       "      <td>GUATEMALA                                     ...</td>\n",
       "      <td>FEMENINO                                      ...</td>\n",
       "      <td>CASADO                                        ...</td>\n",
       "      <td>9046.941583</td>\n",
       "      <td>BAJO</td>\n",
       "      <td>ATENCION AL CLIENTE</td>\n",
       "      <td>0</td>\n",
       "    </tr>\n",
       "    <tr>\n",
       "      <th>1</th>\n",
       "      <td>1</td>\n",
       "      <td>2</td>\n",
       "      <td>36</td>\n",
       "      <td>GUATEMALA                                     ...</td>\n",
       "      <td>FEMENINO                                      ...</td>\n",
       "      <td>SOLTERO                                       ...</td>\n",
       "      <td>4.860650</td>\n",
       "      <td>MASIVO</td>\n",
       "      <td>ATENCION AL CLIENTE</td>\n",
       "      <td>0</td>\n",
       "    </tr>\n",
       "    <tr>\n",
       "      <th>2</th>\n",
       "      <td>1</td>\n",
       "      <td>2</td>\n",
       "      <td>48</td>\n",
       "      <td>GUATEMALA                                     ...</td>\n",
       "      <td>MASCULINO                                     ...</td>\n",
       "      <td>SOLTERO                                       ...</td>\n",
       "      <td>1279.018169</td>\n",
       "      <td>MEDIO</td>\n",
       "      <td>ATENCION AL CLIENTE</td>\n",
       "      <td>0</td>\n",
       "    </tr>\n",
       "    <tr>\n",
       "      <th>3</th>\n",
       "      <td>1</td>\n",
       "      <td>3</td>\n",
       "      <td>41</td>\n",
       "      <td>ZACAPA                                        ...</td>\n",
       "      <td>MASCULINO                                     ...</td>\n",
       "      <td>CASADO                                        ...</td>\n",
       "      <td>13546.512618</td>\n",
       "      <td>PRIVADO</td>\n",
       "      <td>ATENCION AL CLIENTE</td>\n",
       "      <td>0</td>\n",
       "    </tr>\n",
       "    <tr>\n",
       "      <th>4</th>\n",
       "      <td>1</td>\n",
       "      <td>5</td>\n",
       "      <td>50</td>\n",
       "      <td>GUATEMALA                                     ...</td>\n",
       "      <td>MASCULINO                                     ...</td>\n",
       "      <td>CASADO                                        ...</td>\n",
       "      <td>14727.358352</td>\n",
       "      <td>ALTO</td>\n",
       "      <td>EMPRESARIAL</td>\n",
       "      <td>0</td>\n",
       "    </tr>\n",
       "  </tbody>\n",
       "</table>\n",
       "</div>"
      ],
      "text/plain": [
       "   Reclamos  ipcprin  Edad                            DepartamentoDescripcion  \\\n",
       "0         2        3    42  GUATEMALA                                     ...   \n",
       "1         1        2    36  GUATEMALA                                     ...   \n",
       "2         1        2    48  GUATEMALA                                     ...   \n",
       "3         1        3    41  ZACAPA                                        ...   \n",
       "4         1        5    50  GUATEMALA                                     ...   \n",
       "\n",
       "                                                Sexo  \\\n",
       "0  FEMENINO                                      ...   \n",
       "1  FEMENINO                                      ...   \n",
       "2  MASCULINO                                     ...   \n",
       "3  MASCULINO                                     ...   \n",
       "4  MASCULINO                                     ...   \n",
       "\n",
       "                                         EstadoCivil  \\\n",
       "0  CASADO                                        ...   \n",
       "1  SOLTERO                                       ...   \n",
       "2  SOLTERO                                       ...   \n",
       "3  CASADO                                        ...   \n",
       "4  CASADO                                        ...   \n",
       "\n",
       "   Rentabilidadantesreclamo Segmentoantesreclamo                 Area  \\\n",
       "0               9046.941583                 BAJO  ATENCION AL CLIENTE   \n",
       "1                  4.860650               MASIVO  ATENCION AL CLIENTE   \n",
       "2               1279.018169                MEDIO  ATENCION AL CLIENTE   \n",
       "3              13546.512618              PRIVADO  ATENCION AL CLIENTE   \n",
       "4              14727.358352                 ALTO          EMPRESARIAL   \n",
       "\n",
       "   Abandono  \n",
       "0         0  \n",
       "1         0  \n",
       "2         0  \n",
       "3         0  \n",
       "4         0  "
      ]
     },
     "execution_count": 6,
     "metadata": {},
     "output_type": "execute_result"
    }
   ],
   "source": [
    "df.head()"
   ]
  },
  {
   "cell_type": "code",
   "execution_count": 7,
   "metadata": {},
   "outputs": [
    {
     "data": {
      "text/html": [
       "<style type=\"text/css\">\n",
       "#T_cdf55 thead>tr>th {\n",
       "  text-align: left;\n",
       "}\n",
       "#T_cdf55_row0_col0, #T_cdf55_row1_col0, #T_cdf55_row2_col0, #T_cdf55_row3_col0, #T_cdf55_row4_col0, #T_cdf55_row5_col0, #T_cdf55_row6_col0, #T_cdf55_row7_col0, #T_cdf55_row8_col0, #T_cdf55_row9_col0 {\n",
       "  text-align: left;\n",
       "  font-size: 12px;\n",
       "  vertical-align: middle;\n",
       "  width: 5%;\n",
       "  max-width: 50px;\n",
       "  min-width: 20px;\n",
       "}\n",
       "#T_cdf55_row0_col1, #T_cdf55_row1_col1, #T_cdf55_row2_col1, #T_cdf55_row3_col1, #T_cdf55_row4_col1, #T_cdf55_row5_col1, #T_cdf55_row6_col1, #T_cdf55_row7_col1, #T_cdf55_row8_col1, #T_cdf55_row9_col1 {\n",
       "  text-align: left;\n",
       "  font-size: 12px;\n",
       "  vertical-align: middle;\n",
       "  width: 15%;\n",
       "  max-width: 200px;\n",
       "  min-width: 100px;\n",
       "  word-break: break-word;\n",
       "}\n",
       "#T_cdf55_row0_col2, #T_cdf55_row1_col2, #T_cdf55_row2_col2, #T_cdf55_row3_col2, #T_cdf55_row4_col2, #T_cdf55_row5_col2, #T_cdf55_row6_col2, #T_cdf55_row7_col2, #T_cdf55_row8_col2, #T_cdf55_row9_col2 {\n",
       "  text-align: left;\n",
       "  font-size: 12px;\n",
       "  vertical-align: middle;\n",
       "  width: 30%;\n",
       "  min-width: 100px;\n",
       "}\n",
       "#T_cdf55_row0_col3, #T_cdf55_row1_col3, #T_cdf55_row2_col3, #T_cdf55_row3_col3, #T_cdf55_row4_col3, #T_cdf55_row5_col3, #T_cdf55_row6_col3, #T_cdf55_row7_col3, #T_cdf55_row8_col3, #T_cdf55_row9_col3 {\n",
       "  text-align: left;\n",
       "  font-size: 12px;\n",
       "  vertical-align: middle;\n",
       "  width: 25%;\n",
       "  min-width: 100px;\n",
       "}\n",
       "#T_cdf55_row0_col4, #T_cdf55_row1_col4, #T_cdf55_row2_col4, #T_cdf55_row3_col4, #T_cdf55_row4_col4, #T_cdf55_row5_col4, #T_cdf55_row6_col4, #T_cdf55_row7_col4, #T_cdf55_row8_col4, #T_cdf55_row9_col4 {\n",
       "  text-align: left;\n",
       "  font-size: 12px;\n",
       "  vertical-align: middle;\n",
       "  width: 20%;\n",
       "  min-width: 150px;\n",
       "}\n",
       "#T_cdf55_row0_col5, #T_cdf55_row1_col5, #T_cdf55_row2_col5, #T_cdf55_row3_col5, #T_cdf55_row4_col5, #T_cdf55_row5_col5, #T_cdf55_row6_col5, #T_cdf55_row7_col5, #T_cdf55_row8_col5, #T_cdf55_row9_col5 {\n",
       "  text-align: left;\n",
       "  font-size: 12px;\n",
       "  vertical-align: middle;\n",
       "  width: 10%;\n",
       "}\n",
       "</style>\n",
       "<table id=\"T_cdf55\">\n",
       "  <caption><strong>Data Frame Summary</strong><br>df<br>Dimensions: 3,736 x 10<br>Duplicates: 381</caption>\n",
       "  <thead>\n",
       "    <tr>\n",
       "      <th id=\"T_cdf55_level0_col0\" class=\"col_heading level0 col0\" >No</th>\n",
       "      <th id=\"T_cdf55_level0_col1\" class=\"col_heading level0 col1\" >Variable</th>\n",
       "      <th id=\"T_cdf55_level0_col2\" class=\"col_heading level0 col2\" >Stats / Values</th>\n",
       "      <th id=\"T_cdf55_level0_col3\" class=\"col_heading level0 col3\" >Freqs / (% of Valid)</th>\n",
       "      <th id=\"T_cdf55_level0_col4\" class=\"col_heading level0 col4\" >Graph</th>\n",
       "      <th id=\"T_cdf55_level0_col5\" class=\"col_heading level0 col5\" >Missing</th>\n",
       "    </tr>\n",
       "  </thead>\n",
       "  <tbody>\n",
       "    <tr>\n",
       "      <td id=\"T_cdf55_row0_col0\" class=\"data row0 col0\" >1</td>\n",
       "      <td id=\"T_cdf55_row0_col1\" class=\"data row0 col1\" ><strong>Reclamos</strong><br>[int64]</td>\n",
       "      <td id=\"T_cdf55_row0_col2\" class=\"data row0 col2\" >Mean (sd) : 1.3 (0.7)<br>min < med < max:<br>1.0 < 1.0 < 8.0<br>IQR (CV) : 0.0 (1.8)</td>\n",
       "      <td id=\"T_cdf55_row0_col3\" class=\"data row0 col3\" >7 distinct values</td>\n",
       "      <td id=\"T_cdf55_row0_col4\" class=\"data row0 col4\" ><img src = \"data:image/png;base64, iVBORw0KGgoAAAANSUhEUgAAAKoAAABGCAYAAABc8A97AAAAOXRFWHRTb2Z0d2FyZQBNYXRwbG90bGliIHZlcnNpb24zLjUuMiwgaHR0cHM6Ly9tYXRwbG90bGliLm9yZy8qNh9FAAAACXBIWXMAAA9hAAAPYQGoP6dpAAACKUlEQVR4nO3ZPW/aYBSG4XMKoQYim4/WbKxsHRjZu/bHZu3ulf+BZMAWjgkIuVuXqiW2QcnT3NfMOVjoBssvXlWVAe/dp7e+AOA1utde4O59M+s13H+qqqpsOAv89s9Q3b0/nU5/hGE4brI8z/Oduz8RK9q69ovaC8NwvFqtyiiKjnUWZ1kWJEkyTtO0Z2aEilau3vrNzKIoOsZx/Nxgf7/BDPAHHqYggVAhgVAhgVAhgVAhgVAhgVAhgVAhgVAhgVAhgVAhgVAhgVAhgVAhgVAhgVAhgVAhgVAhgVAhgVAhgVAhgVAhgVAhgVAhgVAhgVAhgVAhgVAhgVAhgVAhgVAhgVAhgVAhgVAhgVAhgVAhgVAhgVAhgVAhgVAhgVAhgVAhgVAhgVAhgVAhgVAhgVAhgVAhgVAhgVAhgVAhgVAhgVAhoXvP5ZfL5cHMQndvuuJUVVV5w0uCqLuFWhTFw/l8/jafzzudTufYZEee5zt3fyJW3C3U0+nUDYJgsFwuj7PZbFd3PsuyIEmScZqmPTMj1A/urrd+M7PhcHiM4/i54Xj/phcDWTxMQQKhQgKhQgKhQsLdH6baaHkOyxnsf+Tdhtr2HLbtGay7982s12TW+JLc3KtCzbIsqLv4cDgEZmZFUQSbzWZQd3673T4GQTBYLBY+Go1e6syWZfl5vV5/TdP0i7vndd/bzILJZPI9iqLHBrO23+8P7v7TzBr90fFBvVRV9dfP6xcYIop7cnAz5AAAAABJRU5ErkJggg==\"></img></td>\n",
       "      <td id=\"T_cdf55_row0_col5\" class=\"data row0 col5\" >0<br>(0.0%)</td>\n",
       "    </tr>\n",
       "    <tr>\n",
       "      <td id=\"T_cdf55_row1_col0\" class=\"data row1 col0\" >2</td>\n",
       "      <td id=\"T_cdf55_row1_col1\" class=\"data row1 col1\" ><strong>ipcprin</strong><br>[int64]</td>\n",
       "      <td id=\"T_cdf55_row1_col2\" class=\"data row1 col2\" >Mean (sd) : 3.2 (2.1)<br>min < med < max:<br>0.0 < 3.0 < 40.0<br>IQR (CV) : 2.0 (1.5)</td>\n",
       "      <td id=\"T_cdf55_row1_col3\" class=\"data row1 col3\" >17 distinct values</td>\n",
       "      <td id=\"T_cdf55_row1_col4\" class=\"data row1 col4\" ><img src = \"data:image/png;base64, iVBORw0KGgoAAAANSUhEUgAAAKoAAABGCAYAAABc8A97AAAAOXRFWHRTb2Z0d2FyZQBNYXRwbG90bGliIHZlcnNpb24zLjUuMiwgaHR0cHM6Ly9tYXRwbG90bGliLm9yZy8qNh9FAAAACXBIWXMAAA9hAAAPYQGoP6dpAAAB4UlEQVR4nO3dQWrCQBSH8TeNlVEhQQTdeYQuXHqIHraH8DCCSMRUGwnTTS2F0mpmSOtfvt/aeWTxYcjmjQshGHDrHv77AYBr9C79wDk3MLN+5Pw6hHCIPAt8+jVU59xgMpk853k+jhm+2+22zrkXYkWqS/+o/TzPx8vl8lAUxbHN4LIs/Wq1Gm82m76ZESqSXHz1m5kVRXGcTqevEfMHEWeAb/iYggRChQRChQRChQRChQRChQRChQRChQRChQRChQRChQRChQRChQRChQRChQRChQRChQRChQRChQRChQRChQRChQRChQRChYSrFlDEaprm0cxy51zsCHZXwcw6DLWqqsfT6fQ0n8+zLMtarQM6Y3cVzjoLta7rnvd+uFgsjrPZbNv2PLur8FWnr34zs9FoFLu3yozdVfjAxxQkECokECokECokECokECokECokECokECokECokECokECokECokECokECokECokECokECokECokECokECokECokECokECokECokECokECokECokECokECokECokECokdL7IN0XiHQDs/78jNxtq6h0A7P+/LzcbasodAOz/vz9XhVqWpW87eL/fezOzqqr8er0exp6P1TRNz9KuDsLfegsh/PjmfAcwzIY67MlOKQAAAABJRU5ErkJggg==\"></img></td>\n",
       "      <td id=\"T_cdf55_row1_col5\" class=\"data row1 col5\" >0<br>(0.0%)</td>\n",
       "    </tr>\n",
       "    <tr>\n",
       "      <td id=\"T_cdf55_row2_col0\" class=\"data row2 col0\" >3</td>\n",
       "      <td id=\"T_cdf55_row2_col1\" class=\"data row2 col1\" ><strong>Edad</strong><br>[int64]</td>\n",
       "      <td id=\"T_cdf55_row2_col2\" class=\"data row2 col2\" >Mean (sd) : 38.8 (12.7)<br>min < med < max:<br>18.0 < 36.0 < 93.0<br>IQR (CV) : 17.0 (3.1)</td>\n",
       "      <td id=\"T_cdf55_row2_col3\" class=\"data row2 col3\" >72 distinct values</td>\n",
       "      <td id=\"T_cdf55_row2_col4\" class=\"data row2 col4\" ><img src = \"data:image/png;base64, iVBORw0KGgoAAAANSUhEUgAAAKoAAABGCAYAAABc8A97AAAAOXRFWHRTb2Z0d2FyZQBNYXRwbG90bGliIHZlcnNpb24zLjUuMiwgaHR0cHM6Ly9tYXRwbG90bGliLm9yZy8qNh9FAAAACXBIWXMAAA9hAAAPYQGoP6dpAAACnUlEQVR4nO3cvY7aQBRA4TuwIPMjI0QEHU3KSCkoeYg8bB4hSDwBbSo6JAsZ4WBhjFMlTVhYxuMwd3S+fhYXR0YXe6+pqkoA37VefQHAR7y9+gLuMcb0RKRrefxcVdXJ5fXgdbwN1RjTm0wm3+I4HtucPxwOe2PMd2INg7ehikg3juPxcrk8jUaj/JmDaZpG6/V6nCRJV0QINQA+hyoiIqPRKJ9Op78sjvacXwxehmEKKjR6R605DMXX67Xj8nqgV2Oh1h2GiqKIyrL8kuf5DxGx+epHQJq8o1oPQyIi2+12vNls+pfLpd3ExUGXxocp22Fov98zDOEvhimoQKhQgVChAqFCBUKFCoQKFQgVKhAqVCBUqECoUIFQoQKhQgVChQqEChUIFSoQKlQgVKhAqFCBUKGC9wsobJVl2RGR2Bhj+yfYXeWRIEPNsqxTFMXX+XzebrfbT/8HrAi7q3wTZKjn8/ktiqL+YrHIZ7PZ/tnz7K7yT5Ch/jEYDGz3Vomwu8orDFNQgVChwsOv/hqLzlhyBmfuhlpn0RlLzuDSozuq9aIzlpzBpQ9N/TaLzlhyBpcYpqBC0L+j1lHzESyPXx0j1BvqPoLl8at7hHpDnUewPH5tBqHeUeMRLIOkYwxTUIFQoQKhQgVChQqEChUIFSoQKlQgVKjAD/4N4D0B9wjVMd4TaAahOsZ7As0g1IbwnoBbDFNQgTuqZ9iZdRuheoSdWe8jVI+wM+t9hOohdmb9i2EKKhAqVCBUqECoUIFhKjChvhBDqAEJ+YUYQg1I3RdiVqvVNEmST8aYg+UltETkann27t38Q6GmaRo9+6nH4zESEcmyLNrtdv3/eV7rZ7u6bhun06nW3bgsy06WZZ+Hw+HPVqtVPHv+0d38Ny5ggE8N/zxrAAAAAElFTkSuQmCC\"></img></td>\n",
       "      <td id=\"T_cdf55_row2_col5\" class=\"data row2 col5\" >0<br>(0.0%)</td>\n",
       "    </tr>\n",
       "    <tr>\n",
       "      <td id=\"T_cdf55_row3_col0\" class=\"data row3 col0\" >4</td>\n",
       "      <td id=\"T_cdf55_row3_col1\" class=\"data row3 col1\" ><strong>DepartamentoDescripcion</strong><br>[object]</td>\n",
       "      <td id=\"T_cdf55_row3_col2\" class=\"data row3 col2\" >1. GUATEMALA                     <br>2. QUETZALTENANGO                <br>3. SACATEPEQUEZ                  <br>4. ESCUINTLA                     <br>5. CHIMALTENANGO                 <br>6. IZABAL                        <br>7. SUCHITEPEQUEZ                 <br>8. SAN MARCOS                    <br>9. HUEHUETENANGO                 <br>10. RETALHULEU                    <br>11. other</td>\n",
       "      <td id=\"T_cdf55_row3_col3\" class=\"data row3 col3\" >3,137 (84.0%)<br>110 (2.9%)<br>89 (2.4%)<br>78 (2.1%)<br>39 (1.0%)<br>34 (0.9%)<br>30 (0.8%)<br>22 (0.6%)<br>22 (0.6%)<br>20 (0.5%)<br>155 (4.1%)</td>\n",
       "      <td id=\"T_cdf55_row3_col4\" class=\"data row3 col4\" ><img src = \"data:image/png;base64, iVBORw0KGgoAAAANSUhEUgAAAJsAAAD+CAYAAAAtWHdlAAAAOXRFWHRTb2Z0d2FyZQBNYXRwbG90bGliIHZlcnNpb24zLjUuMiwgaHR0cHM6Ly9tYXRwbG90bGliLm9yZy8qNh9FAAAACXBIWXMAAA9hAAAPYQGoP6dpAAAEVklEQVR4nO3dTU4bWQBG0Qey0mFSlmWJZWQBXkQWm0V4AdkHQtQg0JnQg0AUfjLjXafDOTPIoCzlqoxL74Oz+/v7AYXzU78A3g+xkREbGbGRERsZsZERGxmxkREbmbMxxsUY48OpXwgn9/3+/v525gU2+/3+87Isu5kX4c+3ruv12dnZl5nBbZZl2R0Oh9vtdns36yL82W5ubj4ej8fd1dXVhzHGvNjGGGO73d5dXl5+m3UR/hcuZl/ABwQyYiMjNjJiIyM2MmIjIzYyYiMjNjJiIyM2MmIjIzYyYiOzGePHeaZTvxBOp/r/36zren08HncjOM/En2td1+sxxveZ17BB4NH0DcKZX5lF5Xd3tumV8/68uq4qlja8Py/WVdXShvfnd+sqn0x5cx7qkhEbGbGRERsZsZERGxmxkREbGbGRERsZsZERGxmxkXkxeDF+YZZXBy/F+IH3x7FwMgYvZF67s7mrMcWLwYuxC7M8GbwYuzDTa4MXYxem8FCXjNjIiI2M2MiIjYzYyIiNjNjIiI2M2MiIjYzYyIiNzJPBi7ELM70YvBi7MItj4WQMXsj4gEDm+duot1CmebKusqxipvPHddXhcLh9iM6fg2SKn+uqh68tq5jGBwQyYiMjNjJiIyM2MmIjIzYyYiMjNjJiIyM2MmIjIzYyL/6cEMzy67rKsoqpHAsnY11F5tc7m7saU/0cvBi7MNv5siy7T58+DWMXZjsfY4yLi4t/T/1C+Pt5qEtGbGTERkZsZMRGRmxkxEZGbGTERkZsZMRGRmxkxEbmfIwxbm9v/zn1C+Hvd76u6/XXr1+NXZjOsXAyBi9kHu9sw12N2Tb7/f7zGGMYuzDb+bIsO2MXCp6zkREbGbGRERsZsZERGxmxkREbGbGRERsZsZERGxmxkREbGbGRERuZzcOqagzLKiazQSBjXUXGnY2MdRUZ6yoyHn2QERsZsZERGxmxkREbGbGRERsZsZERGxmxkREbGbGRERsZsZExeCHjWDgZgxcy7mxkDF7IGLyQ8eiDjNjIiI2M2MiIjYzYyIiNjNjIiI2M2MiIjYzYyIiNjNjIiI2MwQsZx8LJGLyQ8TMbGW+jZKyryFhXkfEzGxmxkREbGbGRERsZsZERGxmxkREbGbGRERsZsZERGxmxkREbGesqMo6Fk7GuIuPORsbghYzBCxmPPsiIjYzYyIiNjNjIiI2M2MiIjYzYyIiNjNjIiI2M2MiIjYzYyBi8kHEsnIzBC5nHO9trR8K/u9vxljb7/f7zwwbhiXVdr41geEubZVl2h8Phdrvd3j1+8+bm5uPxeNxdXV19GGOIjTexGWOM7XZ7d3l5+e3Zv12c4PXwF/OcjYzYyIiNjNjIiI2M2MiIjYzYyIiNjNjIiI2M2MiIjcxmjB9Hin795vOv4S1s1nW9Ph6Pu/HsSNHDEMYIhjfjWDgZgxcyPiCQERsZsZERGxmxkREbGbGRERsZsZH5DwntlANsiMp4AAAAAElFTkSuQmCC\"></img></td>\n",
       "      <td id=\"T_cdf55_row3_col5\" class=\"data row3 col5\" >0<br>(0.0%)</td>\n",
       "    </tr>\n",
       "    <tr>\n",
       "      <td id=\"T_cdf55_row4_col0\" class=\"data row4 col0\" >5</td>\n",
       "      <td id=\"T_cdf55_row4_col1\" class=\"data row4 col1\" ><strong>Sexo</strong><br>[object]</td>\n",
       "      <td id=\"T_cdf55_row4_col2\" class=\"data row4 col2\" >1. MASCULINO                     <br>2. FEMENINO                      </td>\n",
       "      <td id=\"T_cdf55_row4_col3\" class=\"data row4 col3\" >2,031 (54.4%)<br>1,705 (45.6%)</td>\n",
       "      <td id=\"T_cdf55_row4_col4\" class=\"data row4 col4\" ><img src = \"data:image/png;base64, iVBORw0KGgoAAAANSUhEUgAAAJsAAAAuCAYAAAA/ZmtKAAAAOXRFWHRTb2Z0d2FyZQBNYXRwbG90bGliIHZlcnNpb24zLjUuMiwgaHR0cHM6Ly9tYXRwbG90bGliLm9yZy8qNh9FAAAACXBIWXMAAA9hAAAPYQGoP6dpAAABO0lEQVR4nO3bQWrDMBRF0a8iQjORMAYvxovoYrsI7cYYa9CETJRBZi3WSDw57j0r+JiLIcHPlVIMUHBmdjWzS+9DTuRRSrn1PuKI/DiOXyGEofchZ5FzXp1z3wT3lw8hDPM832KM997HvLtt2z5TSsOyLBczI7ZfvJlZjPE+TdNP72NO4tr7gKP66H0A/g9igwyxQYbYIENskCE2yBAbZIgNMsQGGWKDDLFBhtggQ2yQITbIEBtkvNnro7/eh5wBz7HO55zXlNJgfPTXRM55NbNH7zuOiMFLewxedjimfFDhzVbHW6ohpnwVzPLaYsq3g1lee0z56viF3hB/6kKG2CBDbJAhNsgQG2SIDTLEBhligwyxQYbYIENskCE2yBAbZIgNMsQGGaZ8O3gm7THlq2CW1xaDlzoGLw09AQpbat/wzNfOAAAAAElFTkSuQmCC\"></img></td>\n",
       "      <td id=\"T_cdf55_row4_col5\" class=\"data row4 col5\" >0<br>(0.0%)</td>\n",
       "    </tr>\n",
       "    <tr>\n",
       "      <td id=\"T_cdf55_row5_col0\" class=\"data row5 col0\" >6</td>\n",
       "      <td id=\"T_cdf55_row5_col1\" class=\"data row5 col1\" ><strong>EstadoCivil</strong><br>[object]</td>\n",
       "      <td id=\"T_cdf55_row5_col2\" class=\"data row5 col2\" >1. SOLTERO                       <br>2. CASADO                        <br>3. UNIDO                         <br>4. DIVORCIADO                    </td>\n",
       "      <td id=\"T_cdf55_row5_col3\" class=\"data row5 col3\" >2,673 (71.5%)<br>1,057 (28.3%)<br>5 (0.1%)<br>1 (0.0%)</td>\n",
       "      <td id=\"T_cdf55_row5_col4\" class=\"data row5 col4\" ><img src = \"data:image/png;base64, iVBORw0KGgoAAAANSUhEUgAAAJsAAABcCAYAAAB5jMeAAAAAOXRFWHRTb2Z0d2FyZQBNYXRwbG90bGliIHZlcnNpb24zLjUuMiwgaHR0cHM6Ly9tYXRwbG90bGliLm9yZy8qNh9FAAAACXBIWXMAAA9hAAAPYQGoP6dpAAAB3klEQVR4nO3bwWkbQRTH4TdCOPFlFyFwCUkPKiLFpogtIj0Ioz3Eji+bgw+65CAF8h/G+b4KHugHo1nmtW3bChJ2vQfg/yE2YlpVPVbVQ+9B+Ctv27a99B7iVvvj8fhtmqZD70G437quz62176MEt5+m6XA6nV7meX7tPQy3u1wun5dlOZzP54eqGiO2qqp5nl+fnp5+9h6Guz32HuAeLgjEiI0YsREjNmLERozYiBEbMWIjRmzEiI0YsREjNmLERsy+6v25Su9BuM+Iv9l+XdfnZVkONdhzFd4fT1bVW+85buVZ+NiGehberPKR4oJAzIjH6FBHB1fDbVeNtlHE1VDbVSNuFHE14naVTzSDckEgRmzEiI0YsREjNmLERozYiBEbMWIjRmzEiI0YsREjNmLERsxQq3yjzMmfDbfKN9r6Gld2EIixykeMCwIxu9ba19aaP978c7uq+lJVn3oPwsfnGCVGbMSIjRixESM2YsRGjNiIERsxYiNGbMSIjRixESM2YsRGjNiIERsxu6r6UVW/eg/Cx2fhhRjHKDFiI8Z2FTG2q4hxjBIjNmLERozYiBEbMWIjRmzEiI0YsREjNmLERozYiBEbMWIjRmzEiI0Y21XE2K4ixjFKjNiI+Q0lB3iZD+4GIgAAAABJRU5ErkJggg==\"></img></td>\n",
       "      <td id=\"T_cdf55_row5_col5\" class=\"data row5 col5\" >0<br>(0.0%)</td>\n",
       "    </tr>\n",
       "    <tr>\n",
       "      <td id=\"T_cdf55_row6_col0\" class=\"data row6 col0\" >7</td>\n",
       "      <td id=\"T_cdf55_row6_col1\" class=\"data row6 col1\" ><strong>Rentabilidadantesreclamo</strong><br>[float64]</td>\n",
       "      <td id=\"T_cdf55_row6_col2\" class=\"data row6 col2\" >Mean (sd) : 5774.7 (69262.4)<br>min < med < max:<br>-35.6 < 575.1 < 4152730.3<br>IQR (CV) : 3487.5 (0.1)</td>\n",
       "      <td id=\"T_cdf55_row6_col3\" class=\"data row6 col3\" >2,858 distinct values</td>\n",
       "      <td id=\"T_cdf55_row6_col4\" class=\"data row6 col4\" ><img src = \"data:image/png;base64, iVBORw0KGgoAAAANSUhEUgAAAKoAAABGCAYAAABc8A97AAAAOXRFWHRTb2Z0d2FyZQBNYXRwbG90bGliIHZlcnNpb24zLjUuMiwgaHR0cHM6Ly9tYXRwbG90bGliLm9yZy8qNh9FAAAACXBIWXMAAA9hAAAPYQGoP6dpAAABaUlEQVR4nO3XT2oCMRiH4aSI6GYGETyMh+hhewhvIyUuqi1Iuuum1D/jov3R59km+cjiZYbU3nuBv+7pty8At5hd21BrXZZS5hPnf/TejxPPwpeLodZal+v1+nkYhtWU4YfD4bXW+iJWHnXtizofhmG13W6P4zie7hncWlvsdrvVfr+fl1KEykOu/vpLKWUcx9Nms3mbMH854Qx84zFFBKESQahEECoRhEoEoRJBqEQQKhGESgShEkGoRBAqEYRKBKESQahEECoRhEoEoRJBqEQQKhGESgShEkGoRBAqEYRKBKESQahEECoRhEoEoRJBqEQQKhGESgShEkGoRBAqEYRKBKESQahEECoRhEoEoRJBqEQQKhGESgShEkGoRBAqEYRKBKESQahEECoRhEoEoRJBqEQQKhGESgShEkGoRBAqEYRKBKESQahEmN2yqbW2uHdwa21xPp9npZSh1nr3xfh33nvvp58WPwF79y3yrjldnwAAAABJRU5ErkJggg==\"></img></td>\n",
       "      <td id=\"T_cdf55_row6_col5\" class=\"data row6 col5\" >0<br>(0.0%)</td>\n",
       "    </tr>\n",
       "    <tr>\n",
       "      <td id=\"T_cdf55_row7_col0\" class=\"data row7 col0\" >8</td>\n",
       "      <td id=\"T_cdf55_row7_col1\" class=\"data row7 col1\" ><strong>Segmentoantesreclamo</strong><br>[object]</td>\n",
       "      <td id=\"T_cdf55_row7_col2\" class=\"data row7 col2\" >1. MEDIO<br>2. BAJO<br>3. MASIVO<br>4. ALTO<br>5. PRIVADO<br>6. SIN SALDO<br>7. MOROSO</td>\n",
       "      <td id=\"T_cdf55_row7_col3\" class=\"data row7 col3\" >1,108 (29.7%)<br>906 (24.3%)<br>901 (24.1%)<br>560 (15.0%)<br>143 (3.8%)<br>111 (3.0%)<br>7 (0.2%)</td>\n",
       "      <td id=\"T_cdf55_row7_col4\" class=\"data row7 col4\" ><img src = \"data:image/png;base64, iVBORw0KGgoAAAANSUhEUgAAAJsAAAChCAYAAADQgM1HAAAAOXRFWHRTb2Z0d2FyZQBNYXRwbG90bGliIHZlcnNpb24zLjUuMiwgaHR0cHM6Ly9tYXRwbG90bGliLm9yZy8qNh9FAAAACXBIWXMAAA9hAAAPYQGoP6dpAAADAUlEQVR4nO3bQWrbUBiF0V/GpM3ExgSyhHYPWUQX20V4Ed2DMdGgSTNxB4ESEjuNi3T1rJ6zgjf4kHhCtzscDgUJi6kPwP9DbMSIjRixESM2Yrqquq6qq6kP8g+eDofDw9SH4OOWNzc331ar1Wbqg5yr7/t913XfBXc5lqvVanN3d/ewXq8fpz7MR93f33/ebreb3W53VVViuxDLqqr1ev14e3v7c+rDnOl66gNwHhcEYsRGjNiIERsxYiNGbMSIjRixESM2YsRGjNiIERsxYiNmWfX8y87UBznHpZ2XZ8u+7/fb7XZTF/bLTt/3+6p6mvocfJzfwonpLOJJafnJ5sk1M80OXgxa5qfJwYtByzy1PHi5qNsxf+ejLjFiI0ZsxIiNGLERIzZixEaM2IgRGzFiI0ZsxIiNGLERIzZimlxXtXYehtHsusp6an5sEIixriKm1Sebp9oMNbmusqyap+bWVZZV89XquqqpmzHD8FGXGLERIzZixEaM2IgRGzFiI0ZsxIiNGLERIzZixEaM2IhpbvDS0lkYVpODF2OXefJbODEGL8S4IBAz9mvU65A/Rl1XWUnx0mjrKispXht7XdXM5xSm54JAjNiIERsxYiNGbMSIjRixESM2YsRGjNiIERsxYiNGbMSMtq6ykuK1UddVVlK85LdwYqyriHnvyeapxKBODl6MVRja0cGLsQpjeG/wYqzCoHzUJUZsxIiNGLERIzZixEaM2IgRGzFiI0ZsxIiNGLERIzZijg5ejFUYw8nBi7EKQ/NbODEGL8S4IBBz6jXqFcrgjq6rLKsYw5t1lWUVYzm1rrKsYnAuCMSIjRixESM2YsRGjNiIERsxYiNGbMSIjRixESM2YsRGzJt1lWUVYzm6rrKsYgx+CyfGuooYFwRiFl3Xfe26zqWA0S2q6ktVfZr6IMyf1ygxYiNGbMSIjRixESM2YsRGjNiIERsxYiNGbMSIjRixESM2YsRGjNiIWVTVj6r6NfVBmD+DF2K8RokRGzFiI0ZsxIiNmN92akkFm4ekMgAAAABJRU5ErkJggg==\"></img></td>\n",
       "      <td id=\"T_cdf55_row7_col5\" class=\"data row7 col5\" >0<br>(0.0%)</td>\n",
       "    </tr>\n",
       "    <tr>\n",
       "      <td id=\"T_cdf55_row8_col0\" class=\"data row8 col0\" >9</td>\n",
       "      <td id=\"T_cdf55_row8_col1\" class=\"data row8 col1\" ><strong>Area</strong><br>[object]</td>\n",
       "      <td id=\"T_cdf55_row8_col2\" class=\"data row8 col2\" >1. ATENCION AL CLIENTE<br>2. CLIENTES DE CONSUMO<br>3. NO CODIFICADO<br>4. CABLE<br>5. POST PAGO<br>6. JURIDICO<br>7. EMPRESARIAL<br>8. VIP<br>9. RESIDENCIAL<br>10. HOGAR</td>\n",
       "      <td id=\"T_cdf55_row8_col3\" class=\"data row8 col3\" >2,801 (75.0%)<br>725 (19.4%)<br>79 (2.1%)<br>53 (1.4%)<br>30 (0.8%)<br>14 (0.4%)<br>13 (0.3%)<br>13 (0.3%)<br>6 (0.2%)<br>2 (0.1%)</td>\n",
       "      <td id=\"T_cdf55_row8_col4\" class=\"data row8 col4\" ><img src = \"data:image/png;base64, iVBORw0KGgoAAAANSUhEUgAAAJsAAADnCAYAAAAJgSQ2AAAAOXRFWHRTb2Z0d2FyZQBNYXRwbG90bGliIHZlcnNpb24zLjUuMiwgaHR0cHM6Ly9tYXRwbG90bGliLm9yZy8qNh9FAAAACXBIWXMAAA9hAAAPYQGoP6dpAAADy0lEQVR4nO3dQW4TZwCG4d+WBWQzlmWJI7S7HMCH4LA9hA+QZe8QRfGiBjZm0YBoRaVKZN6xzPPs2P1SXmYmo/lgdblcBhTWSx+AX4fYyIiNjNjIiI2M2MiIjYzYyIiNzGqMcTfGeLP0QXg1ny+Xy3npQ/zIZr/ff5imabf0QXgdp9PpabVa/XGNwW2madodDofzdrv9uPRh+DnPz8/vjsfj7vHx8c0Y4/piG2OM7Xb78f37938tfRhexd3SB/gvfkEgIzYyYiMjNjJiIyM2MmIjIzYyYiMjNjJiIyM2MmIjsxnj709Tlj4IP+/af46b0+n0dDwed+OKP03h/zudTk9jjM9Ln+NHfBZ+e672s/CVf8WIypJXtqv9G8g8Fhu8XPMwg3ksMni59mEG81hy8OK331+Ml7pkxEZGbGTERkZsZMRGRmxkxEZGbGTERkZsZMRGRmxkFhm8XPswg3ksNni55mEG8/BZOBmDFzL/vrK52jCbfwxejFCY0/rr4OVwOJxfojNYZhbfBi8vfzZCYTZe6pIRGxmxkREbGbGRERsZsZERGxmxkREbGbGRERsZsZERGxn/nRCZ79dVFk/MygaBjHUVme+vbK5qzOrbusqyirmtp2na3d/fD8sq5rYeY4y7u7tPSx+E2+elLhmxkREbGbGRERsZsZERGxmxkREbGbGRERsZsZERG5n1GGOcz+e3Sx+E27c+nU5PDw8Pxi7MzmfhZAxeyHy9sg1XNea22e/3H8YYw9iFua2nadoZu1Dwno2M2MiIjYzYyIiNjNjIiI2M2MiIjYzYyIiNjNjIiI2M2MiIjczmZegyhrELM/NZOBmDFzKe2ci4jZKxriJjXUXGMxsZsZERGxmxkREbGbGRERsZsZERGxmxkREbGbGRERsZsZERGxnrKjI+CydjXUXGlY2MwQsZgxcyXn2QERsZsZERGxmxkREbGbGRERsZsZERGxmxkREbGbGRERsZsZExeCHjs3AyBi9kPLORcRslY11FxrqKjGc2MmIjIzYyYiMjNjJiIyM2MmIjIzYyYiMjNjJiIyM2MmIjIzYy1lVkfBZOxrqKjGc2MuvVavX7arV6t/RBuH3rMcZvY4y3Sx+E2+c2SkZsZMRGRmxkxEZGbGTERkZsZMRGRmxkxEZGbGTERkZsZMRGZj3G+HOM8Wnpg3D7bBDIuI2SERsZgxcyBi9k3EbJiI2M2MiIjYzYyIiNjNjIiI2M2MiIjYzYyIiNjNjIiI2M2MiIjYx1FRnrKjJuo2TERkZsZMRGRmxkxEZGbGTERuYLf7YeUg2FvlYAAAAASUVORK5CYII=\"></img></td>\n",
       "      <td id=\"T_cdf55_row8_col5\" class=\"data row8 col5\" >0<br>(0.0%)</td>\n",
       "    </tr>\n",
       "    <tr>\n",
       "      <td id=\"T_cdf55_row9_col0\" class=\"data row9 col0\" >10</td>\n",
       "      <td id=\"T_cdf55_row9_col1\" class=\"data row9 col1\" ><strong>Abandono</strong><br>[int64]</td>\n",
       "      <td id=\"T_cdf55_row9_col2\" class=\"data row9 col2\" >Mean (sd) : 0.1 (0.3)<br>min < med < max:<br>0.0 < 0.0 < 1.0<br>IQR (CV) : 0.0 (0.3)</td>\n",
       "      <td id=\"T_cdf55_row9_col3\" class=\"data row9 col3\" >2 distinct values</td>\n",
       "      <td id=\"T_cdf55_row9_col4\" class=\"data row9 col4\" ><img src = \"data:image/png;base64, iVBORw0KGgoAAAANSUhEUgAAAKoAAABGCAYAAABc8A97AAAAOXRFWHRTb2Z0d2FyZQBNYXRwbG90bGliIHZlcnNpb24zLjUuMiwgaHR0cHM6Ly9tYXRwbG90bGliLm9yZy8qNh9FAAAACXBIWXMAAA9hAAAPYQGoP6dpAAABtUlEQVR4nO3XTYqDQBCG4apBRDfdiOBhPEQOm0N4GwntIkog6dnNZpj8dDJkvuF9tlpFL16U9pyzAX/dx7sPANyjuvWCu7dmVhfuP+Wc18JZ4MvVUN297ft+F0LoSpYvy3Jw9z2x4lm3vqh1CKEbx3GNMW6PLE4pNdM0dfM812ZGqHjKzV+/mVmMcRuG4Viwvy2YAb7hMgUJhAoJhAoJhAoJhAoJhAoJhAoJhAoJhAoJhAoJhAoJhAoJhAoJhAoJhAoJhAoJhAoJhAoJhAoJhAoJhAoJhAoJhAoJhAoJhAoJhAoJhAoJhAoJhAoJhAoJhAoJhAoJhAoJhAoJhAoJhAoJhAoJhAoJhAoJhAoJhAoJhAoJhAoJhAoJhAoJhAoJhAoJhAoJhAoJhAoJhAoJhAoJhAoJhAoJhAoJ1bsPgP/D3VszqwvHTznn9aeHhIqXcPe27/tdCKErmV+W5eDu+59iJVS8Sh1C6MZxXGOM2yODKaVmmqZunufazAgVvy/GuA3DcCwYba895DIFCYQKCYQKCYQKCXddplJKzaOLU0rN+XyuzCy4+8MHg5xwuVyq0lZuvfMJRbpOfWrrwwoAAAAASUVORK5CYII=\"></img></td>\n",
       "      <td id=\"T_cdf55_row9_col5\" class=\"data row9 col5\" >0<br>(0.0%)</td>\n",
       "    </tr>\n",
       "  </tbody>\n",
       "</table>\n"
      ],
      "text/plain": [
       "<pandas.io.formats.style.Styler at 0x1882b778df0>"
      ]
     },
     "execution_count": 7,
     "metadata": {},
     "output_type": "execute_result"
    }
   ],
   "source": [
    "dfSummary(df)"
   ]
  },
  {
   "cell_type": "markdown",
   "metadata": {},
   "source": [
    "# Paso 3. Preprocesamiendo de Datos"
   ]
  },
  {
   "cell_type": "code",
   "execution_count": 8,
   "metadata": {},
   "outputs": [],
   "source": [
    "# Imputar Valores Faltantes en Variables Numérica\n",
    "df['Reclamos'].fillna(df['Reclamos'].mean(), inplace=True)\n",
    "df['ipcprin'].fillna(df['ipcprin'].mean(), inplace=True)\n",
    "df['Edad'].fillna(df['Edad'].mean(), inplace=True)\n",
    "df['Rentabilidadantesreclamo'].fillna(df['Rentabilidadantesreclamo'].mean(), inplace=True)\n"
   ]
  },
  {
   "cell_type": "code",
   "execution_count": 9,
   "metadata": {},
   "outputs": [],
   "source": [
    "# Tratamiento de Outliers utilizando el metódo de Winsorizing para limitar los valores extremos\n",
    "\n",
    "from scipy.stats.mstats import winsorize\n",
    "\n",
    "df['Reclamos'] = winsorize(df['Reclamos'], limits=[0.05, 0.05])\n",
    "df['ipcprin'] = winsorize(df['ipcprin'], limits=[0.05, 0.05])\n",
    "df['Edad'] = winsorize(df['Edad'], limits=[0.05, 0.05])\n",
    "df['Rentabilidadantesreclamo'] = winsorize(df['Rentabilidadantesreclamo'], limits=[0.05, 0.05])\n"
   ]
  },
  {
   "cell_type": "code",
   "execution_count": 10,
   "metadata": {},
   "outputs": [],
   "source": [
    "#One-Hot Encoding para Variables Categóricas\n",
    "df = pd.get_dummies(df, columns=['Segmentoantesreclamo', 'EstadoCivil', 'Sexo', 'DepartamentoDescripcion', 'Area'], drop_first=True)\n"
   ]
  },
  {
   "cell_type": "code",
   "execution_count": 11,
   "metadata": {},
   "outputs": [],
   "source": [
    "# División de Datos en Entrenamiento y Prueba\n",
    "X = df.drop(['Abandono'], axis=1)  # Variables independientes\n",
    "y = df['Abandono']  # Variable objetivo"
   ]
  },
  {
   "cell_type": "code",
   "execution_count": 12,
   "metadata": {},
   "outputs": [],
   "source": [
    "dummy_y = kr.utils.to_categorical(y)"
   ]
  },
  {
   "cell_type": "code",
   "execution_count": 14,
   "metadata": {},
   "outputs": [],
   "source": [
    "X_train, X_test, y_train, y_test = train_test_split(X, dummy_y, test_size=0.2, random_state=42)"
   ]
  },
  {
   "cell_type": "markdown",
   "metadata": {},
   "source": [
    "# Paso 4. Modelado"
   ]
  },
  {
   "cell_type": "markdown",
   "metadata": {},
   "source": [
    "### Creación Red Neuronal"
   ]
  },
  {
   "cell_type": "code",
   "execution_count": 17,
   "metadata": {},
   "outputs": [],
   "source": [
    "model= kr.models.Sequential()\n",
    "model.add(kr.layers.Dense(46,input_dim=46,activation='relu'))\n",
    "model.add(kr.layers.Dense(2,activation='softmax' ))\n",
    "model.compile(loss='categorical_crossentropy', optimizer='adam', metrics=['accuracy'])"
   ]
  },
  {
   "cell_type": "code",
   "execution_count": 18,
   "metadata": {},
   "outputs": [
    {
     "name": "stdout",
     "output_type": "stream",
     "text": [
      "Epoch 1/25\n",
      "299/299 [==============================] - 1s 2ms/step - loss: 14.0768 - accuracy: 0.8297\n",
      "Epoch 2/25\n",
      "299/299 [==============================] - 0s 1ms/step - loss: 3.4170 - accuracy: 0.8384\n",
      "Epoch 3/25\n",
      "299/299 [==============================] - 0s 1ms/step - loss: 4.0530 - accuracy: 0.8517\n",
      "Epoch 4/25\n",
      "299/299 [==============================] - 1s 2ms/step - loss: 2.1370 - accuracy: 0.8604\n",
      "Epoch 5/25\n",
      "299/299 [==============================] - 0s 1ms/step - loss: 2.9718 - accuracy: 0.8494\n",
      "Epoch 6/25\n",
      "299/299 [==============================] - 0s 1ms/step - loss: 4.3359 - accuracy: 0.8440\n",
      "Epoch 7/25\n",
      "299/299 [==============================] - 0s 2ms/step - loss: 3.7522 - accuracy: 0.8548\n",
      "Epoch 8/25\n",
      "299/299 [==============================] - 0s 2ms/step - loss: 3.6396 - accuracy: 0.8484\n",
      "Epoch 9/25\n",
      "299/299 [==============================] - 0s 1ms/step - loss: 3.7981 - accuracy: 0.8417\n",
      "Epoch 10/25\n",
      "299/299 [==============================] - 1s 2ms/step - loss: 4.8243 - accuracy: 0.8464\n",
      "Epoch 11/25\n",
      "299/299 [==============================] - 1s 2ms/step - loss: 2.9441 - accuracy: 0.8497\n",
      "Epoch 12/25\n",
      "299/299 [==============================] - 0s 1ms/step - loss: 3.6825 - accuracy: 0.8568\n",
      "Epoch 13/25\n",
      "299/299 [==============================] - 0s 2ms/step - loss: 3.3520 - accuracy: 0.8494\n",
      "Epoch 14/25\n",
      "299/299 [==============================] - 0s 2ms/step - loss: 2.7907 - accuracy: 0.8598\n",
      "Epoch 15/25\n",
      "299/299 [==============================] - 1s 2ms/step - loss: 2.4344 - accuracy: 0.8598\n",
      "Epoch 16/25\n",
      "299/299 [==============================] - 0s 2ms/step - loss: 3.0397 - accuracy: 0.8461\n",
      "Epoch 17/25\n",
      "299/299 [==============================] - 1s 2ms/step - loss: 3.2972 - accuracy: 0.8474\n",
      "Epoch 18/25\n",
      "299/299 [==============================] - 0s 1ms/step - loss: 2.4639 - accuracy: 0.8497\n",
      "Epoch 19/25\n",
      "299/299 [==============================] - 1s 2ms/step - loss: 3.8360 - accuracy: 0.8558\n",
      "Epoch 20/25\n",
      "299/299 [==============================] - 0s 2ms/step - loss: 2.5409 - accuracy: 0.8604\n",
      "Epoch 21/25\n",
      "299/299 [==============================] - 0s 2ms/step - loss: 2.9533 - accuracy: 0.8501\n",
      "Epoch 22/25\n",
      "299/299 [==============================] - 0s 2ms/step - loss: 2.0907 - accuracy: 0.8544\n",
      "Epoch 23/25\n",
      "299/299 [==============================] - 0s 1ms/step - loss: 2.2928 - accuracy: 0.8568\n",
      "Epoch 24/25\n",
      "299/299 [==============================] - 1s 2ms/step - loss: 2.6931 - accuracy: 0.8591\n",
      "Epoch 25/25\n",
      "299/299 [==============================] - 0s 2ms/step - loss: 2.3661 - accuracy: 0.8504\n"
     ]
    },
    {
     "data": {
      "text/plain": [
       "<keras.src.callbacks.History at 0x1882b7c5430>"
      ]
     },
     "execution_count": 18,
     "metadata": {},
     "output_type": "execute_result"
    }
   ],
   "source": [
    "model.fit(X_train, y_train, epochs=25, batch_size=10)"
   ]
  },
  {
   "cell_type": "code",
   "execution_count": 22,
   "metadata": {},
   "outputs": [
    {
     "name": "stdout",
     "output_type": "stream",
     "text": [
      "24/24 [==============================] - 0s 1ms/step - loss: 0.3712 - accuracy: 0.8824\n",
      "Accuracy with 1 layers: 0.8823529481887817\n",
      "24/24 [==============================] - 0s 2ms/step - loss: 0.3617 - accuracy: 0.8810\n",
      "Accuracy with 2 layers: 0.8810160160064697\n",
      "24/24 [==============================] - 0s 3ms/step - loss: 0.3639 - accuracy: 0.8824\n",
      "Accuracy with 3 layers: 0.8823529481887817\n",
      "24/24 [==============================] - 0s 1ms/step - loss: 0.3638 - accuracy: 0.8770\n",
      "Accuracy with 4 layers: 0.8770053386688232\n",
      "24/24 [==============================] - 0s 4ms/step - loss: 0.3838 - accuracy: 0.8757\n",
      "Accuracy with 5 layers: 0.875668466091156\n",
      "Best accuracy achieved: 0.8823529481887817 with 1 layers.\n"
     ]
    }
   ],
   "source": [
    "def create_model(num_layers):\n",
    "    model= kr.models.Sequential()\n",
    "    model.add(kr.layers.Dense(46,input_dim=46,activation='relu'))\n",
    "    \n",
    "    for _ in range(num_layers):\n",
    "        model.add(kr.layers.Dense(46, activation='relu'))\n",
    "        \n",
    "    model.add(kr.layers.Dense(2, activation='softmax'))  # Ajuste en la cantidad de neuronas aquí\n",
    "    model.compile(loss='categorical_crossentropy', optimizer='adam', metrics=['accuracy'])\n",
    "    return model\n",
    "\n",
    "def train_and_evaluate_model(num_layers, X_train, y_train, X_test, y_test):\n",
    "    model = create_model(num_layers)\n",
    "    model.fit(X_train, y_train, epochs=10, batch_size=32, verbose=0)\n",
    "    _, accuracy = model.evaluate(X_test, y_test)\n",
    "    return accuracy\n",
    "\n",
    "scaler = StandardScaler()\n",
    "X_train_scaled = scaler.fit_transform(X_train)\n",
    "X_test_scaled = scaler.transform(X_test)\n",
    "\n",
    "##y_train_one_hot = to_categorical(y_train)\n",
    "###y_test_one_hot = to_categorical(y_test)\n",
    "\n",
    "best_accuracy = 0\n",
    "best_num_layers = 0\n",
    "\n",
    "for num_layers in range(1, 6):\n",
    "    accuracy = train_and_evaluate_model(num_layers, X_train_scaled, y_train, X_test_scaled, y_test)\n",
    "    print(f\"Accuracy with {num_layers} layers: {accuracy}\")\n",
    "    \n",
    "    if accuracy > best_accuracy:\n",
    "        best_accuracy = accuracy\n",
    "        best_num_layers = num_layers\n",
    "\n",
    "print(f\"Best accuracy achieved: {best_accuracy} with {best_num_layers} layers.\")"
   ]
  },
  {
   "cell_type": "code",
   "execution_count": 24,
   "metadata": {},
   "outputs": [
    {
     "name": "stdout",
     "output_type": "stream",
     "text": [
      "24/24 [==============================] - 0s 1ms/step - loss: 0.3589 - accuracy: 0.8797\n",
      "Accuracy with 10 neurons: 0.8796791434288025\n",
      "24/24 [==============================] - 0s 1ms/step - loss: 0.3552 - accuracy: 0.8837\n",
      "Accuracy with 14 neurons: 0.883689820766449\n",
      "24/24 [==============================] - 0s 1ms/step - loss: 0.3542 - accuracy: 0.8864\n",
      "Accuracy with 21 neurons: 0.8863636255264282\n",
      "24/24 [==============================] - 0s 1ms/step - loss: 0.3573 - accuracy: 0.8837\n",
      "Accuracy with 31 neurons: 0.883689820766449\n",
      "24/24 [==============================] - 0s 1ms/step - loss: 0.3579 - accuracy: 0.8824\n",
      "Accuracy with 45 neurons: 0.8823529481887817\n",
      "24/24 [==============================] - 0s 2ms/step - loss: 0.3536 - accuracy: 0.8824\n",
      "Accuracy with 66 neurons: 0.8823529481887817\n",
      "24/24 [==============================] - 0s 2ms/step - loss: 0.3522 - accuracy: 0.8810\n",
      "Accuracy with 96 neurons: 0.8810160160064697\n",
      "24/24 [==============================] - 0s 2ms/step - loss: 0.3587 - accuracy: 0.8837\n",
      "Accuracy with 140 neurons: 0.883689820766449\n",
      "24/24 [==============================] - 0s 1ms/step - loss: 0.3635 - accuracy: 0.8824\n",
      "Accuracy with 205 neurons: 0.8823529481887817\n",
      "24/24 [==============================] - 0s 1ms/step - loss: 0.3549 - accuracy: 0.8824\n",
      "Accuracy with 300 neurons: 0.8823529481887817\n",
      "Best accuracy achieved: 0.8863636255264282 with 21 neurons.\n"
     ]
    }
   ],
   "source": [
    "def create_model(num_neurons):\n",
    "    model= kr.models.Sequential()\n",
    "    model.add(kr.layers.Dense(46,input_dim=46,activation='relu'))\n",
    "    model.add(kr.layers.Dense(2,activation='softmax' ))\n",
    "    model.compile(loss='categorical_crossentropy', optimizer='adam', metrics=['accuracy'])\n",
    "    return model\n",
    "\n",
    "def train_and_evaluate_model(num_neurons, X_train, y_train, X_test, y_test):\n",
    "    model = create_model(num_neurons)\n",
    "    model.fit(X_train, y_train, epochs=10, batch_size=32, verbose=0)\n",
    "    _, accuracy = model.evaluate(X_test, y_test)\n",
    "    return accuracy\n",
    "\n",
    "scaler = StandardScaler()\n",
    "X_train_scaled = scaler.fit_transform(X_train)\n",
    "X_test_scaled = scaler.transform(X_test)\n",
    "\n",
    "##y_train_one_hot = to_categorical(y_train)\n",
    "##y_test_one_hot = to_categorical(y_test)\n",
    "\n",
    "start_neurons = 10\n",
    "end_neurons = 300\n",
    "num_neurons_list = np.logspace(np.log10(start_neurons), np.log10(end_neurons), num=10, dtype=int)\n",
    "\n",
    "best_accuracy = 0\n",
    "best_num_neurons = 0\n",
    "\n",
    "for num_neurons in num_neurons_list:\n",
    "    accuracy = train_and_evaluate_model(num_neurons, X_train_scaled, y_train, X_test_scaled, y_test)\n",
    "    print(f\"Accuracy with {num_neurons} neurons: {accuracy}\")\n",
    "    \n",
    "    if accuracy > best_accuracy:\n",
    "        best_accuracy = accuracy\n",
    "        best_num_neurons = num_neurons\n",
    "\n",
    "print(f\"Best accuracy achieved: {best_accuracy} with {best_num_neurons} neurons.\")"
   ]
  },
  {
   "cell_type": "code",
   "execution_count": 25,
   "metadata": {},
   "outputs": [],
   "source": [
    "modelfinal= kr.models.Sequential()\n",
    "modelfinal.add(kr.layers.Dense(21,input_dim=46,activation='relu'))\n",
    "modelfinal.add(kr.layers.Dense(2,activation='softmax' ))\n",
    "modelfinal.compile(loss='categorical_crossentropy', optimizer='adam', metrics=['accuracy'])"
   ]
  },
  {
   "cell_type": "code",
   "execution_count": 27,
   "metadata": {},
   "outputs": [
    {
     "name": "stdout",
     "output_type": "stream",
     "text": [
      "Epoch 1/25\n",
      "299/299 [==============================] - 1s 2ms/step - loss: 4.2222 - accuracy: 0.8414\n",
      "Epoch 2/25\n",
      "299/299 [==============================] - 1s 2ms/step - loss: 2.5935 - accuracy: 0.8601\n",
      "Epoch 3/25\n",
      "299/299 [==============================] - 1s 2ms/step - loss: 1.9945 - accuracy: 0.8665\n",
      "Epoch 4/25\n",
      "299/299 [==============================] - 1s 2ms/step - loss: 1.6943 - accuracy: 0.8678\n",
      "Epoch 5/25\n",
      "299/299 [==============================] - 0s 1ms/step - loss: 1.3931 - accuracy: 0.8638\n",
      "Epoch 6/25\n",
      "299/299 [==============================] - 0s 2ms/step - loss: 1.5457 - accuracy: 0.8732\n",
      "Epoch 7/25\n",
      "299/299 [==============================] - 1s 2ms/step - loss: 2.5019 - accuracy: 0.8624\n",
      "Epoch 8/25\n",
      "299/299 [==============================] - 1s 2ms/step - loss: 1.3653 - accuracy: 0.8732\n",
      "Epoch 9/25\n",
      "299/299 [==============================] - 0s 2ms/step - loss: 2.3397 - accuracy: 0.8561\n",
      "Epoch 10/25\n",
      "299/299 [==============================] - 1s 3ms/step - loss: 1.0556 - accuracy: 0.8722\n",
      "Epoch 11/25\n",
      "299/299 [==============================] - 1s 2ms/step - loss: 1.5915 - accuracy: 0.8725\n",
      "Epoch 12/25\n",
      "299/299 [==============================] - 1s 2ms/step - loss: 1.3300 - accuracy: 0.8665\n",
      "Epoch 13/25\n",
      "299/299 [==============================] - 1s 2ms/step - loss: 1.2137 - accuracy: 0.8698\n",
      "Epoch 14/25\n",
      "299/299 [==============================] - 0s 2ms/step - loss: 1.9311 - accuracy: 0.8675\n",
      "Epoch 15/25\n",
      "299/299 [==============================] - 1s 2ms/step - loss: 1.4272 - accuracy: 0.8732\n",
      "Epoch 16/25\n",
      "299/299 [==============================] - 0s 2ms/step - loss: 1.5843 - accuracy: 0.8658\n",
      "Epoch 17/25\n",
      "299/299 [==============================] - 0s 2ms/step - loss: 0.9424 - accuracy: 0.8671\n",
      "Epoch 18/25\n",
      "299/299 [==============================] - 1s 2ms/step - loss: 1.0379 - accuracy: 0.8681\n",
      "Epoch 19/25\n",
      "299/299 [==============================] - 0s 1ms/step - loss: 1.7625 - accuracy: 0.8671\n",
      "Epoch 20/25\n",
      "299/299 [==============================] - 1s 2ms/step - loss: 1.5475 - accuracy: 0.8695\n",
      "Epoch 21/25\n",
      "299/299 [==============================] - 1s 2ms/step - loss: 1.8096 - accuracy: 0.8651\n",
      "Epoch 22/25\n",
      "299/299 [==============================] - 1s 2ms/step - loss: 1.2478 - accuracy: 0.8701\n",
      "Epoch 23/25\n",
      "299/299 [==============================] - 1s 2ms/step - loss: 1.1053 - accuracy: 0.8698\n",
      "Epoch 24/25\n",
      "299/299 [==============================] - 1s 2ms/step - loss: 1.3119 - accuracy: 0.8661\n",
      "Epoch 25/25\n",
      "299/299 [==============================] - 0s 2ms/step - loss: 1.2740 - accuracy: 0.8742\n"
     ]
    },
    {
     "data": {
      "text/plain": [
       "<keras.src.callbacks.History at 0x1882f3909d0>"
      ]
     },
     "execution_count": 27,
     "metadata": {},
     "output_type": "execute_result"
    }
   ],
   "source": [
    "modelfinal.fit(X_train, y_train, epochs=25, batch_size=10)"
   ]
  },
  {
   "cell_type": "markdown",
   "metadata": {},
   "source": [
    "# Paso 5. Evaluación de Modelo"
   ]
  },
  {
   "cell_type": "code",
   "execution_count": 19,
   "metadata": {},
   "outputs": [
    {
     "name": "stdout",
     "output_type": "stream",
     "text": [
      "24/24 [==============================] - 0s 820us/step - loss: 3.0524 - accuracy: 0.8837\n",
      "Precisión: 88.37\n"
     ]
    }
   ],
   "source": [
    "loss, accuracy = model.evaluate(X_test, y_test)\n",
    "\n",
    "# Imprimimos la precisión del modelo, multiplicada por 100 para obtener un porcentaje.\n",
    "print('Precisión: %.2f' % (accuracy*100))"
   ]
  },
  {
   "cell_type": "code",
   "execution_count": 28,
   "metadata": {},
   "outputs": [
    {
     "name": "stdout",
     "output_type": "stream",
     "text": [
      "24/24 [==============================] - 0s 2ms/step - loss: 0.6369 - accuracy: 0.8837\n",
      "Precisión: 88.37\n"
     ]
    }
   ],
   "source": [
    "loss, accuracy = modelfinal.evaluate(X_test, y_test)\n",
    "\n",
    "# Imprimimos la precisión del modelo, multiplicada por 100 para obtener un porcentaje.\n",
    "print('Precisión: %.2f' % (accuracy*100))"
   ]
  }
 ],
 "metadata": {
  "kernelspec": {
   "display_name": "base",
   "language": "python",
   "name": "python3"
  },
  "language_info": {
   "codemirror_mode": {
    "name": "ipython",
    "version": 3
   },
   "file_extension": ".py",
   "mimetype": "text/x-python",
   "name": "python",
   "nbconvert_exporter": "python",
   "pygments_lexer": "ipython3",
   "version": "3.9.13"
  },
  "orig_nbformat": 4
 },
 "nbformat": 4,
 "nbformat_minor": 2
}
